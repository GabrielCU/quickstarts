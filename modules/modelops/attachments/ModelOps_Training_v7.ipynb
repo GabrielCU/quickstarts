{
 "cells": [
  {
   "cell_type": "markdown",
   "id": "add0ac40",
   "metadata": {},
   "source": [
    "<header>\n",
    "   <p  style='font-size:36px;font-family:Arial; color:#F0F0F0; background-color: #00233c; padding-left: 20pt; padding-top: 20pt;padding-bottom: 10pt; padding-right: 20pt;'>\n",
    "       Setting up the ModelOps Environment\n",
    "  <br>\n",
    "       <img id=\"teradata-logo\" src=\"https://storage.googleapis.com/clearscape_analytics_demo_data/DEMO_Logo/teradata.svg\" alt=\"Teradata\" style=\"width: 125px; height: auto; margin-top: 20pt;\">\n",
    "    </p>\n",
    "</header>"
   ]
  },
  {
   "cell_type": "markdown",
   "id": "dcc29d47",
   "metadata": {},
   "source": [
    "<hr>\n",
    "<b style = 'font-size:28px;font-family:Arial;color:#E37C4D'>Setup</b>\n",
    "\n",
    "<p style = 'font-size:18px;font-family:Arial'><b>Introduction</b></p>\n",
    "\n",
    "<p style = 'font-size:16px;font-family:Arial'>In this notebook we walk through setting up the ModelOps environment. We will cover how to connect to Vantage, create the necesarry DDLs and how to import the necessary data</p>\n"
   ]
  },
  {
   "cell_type": "markdown",
   "id": "de46ba4f",
   "metadata": {},
   "source": [
    "<hr>\n",
    "<b style = 'font-size:28px;font-family:Arial;color:#E37C4D'>Configure the Environment</b>"
   ]
  },
  {
   "cell_type": "code",
   "execution_count": null,
   "id": "426c443a",
   "metadata": {},
   "outputs": [],
   "source": [
    "%pip install teradataml==17.20.0.6 teradatamodelops==7.0.3 pandas==1.1.5"
   ]
  },
  {
   "cell_type": "markdown",
   "id": "3a3eadfe",
   "metadata": {},
   "source": [
    "\n",
    "<b style = 'font-size:28px;font-family:Arial;color:#E37C4D'>Connect to Vantage</b>"
   ]
  },
  {
   "cell_type": "code",
   "execution_count": 1,
   "id": "8a780585",
   "metadata": {},
   "outputs": [],
   "source": [
    "from teradataml import (\n",
    "    create_context, \n",
    "    execute_sql,\n",
    ")\n",
    "import getpass\n",
    "import logging\n",
    "import sys\n",
    "\n",
    "logging.basicConfig(stream=sys.stdout, level=logging.INFO)\n",
    "\n",
    "\n",
    "host = input(\"Host:\")\n",
    "username = input(\"Username:\")\n",
    "password = getpass.getpass(\"Password:\")\n",
    "database = input(\"Database (defaults to user):\")\n",
    "\n",
    "if not database:\n",
    "    database = username\n",
    "\n",
    "\n",
    "engine = create_context(host=host, \n",
    "                        username=username, \n",
    "                        password=password, \n",
    "                        logmech=\"TDNEGO\",\n",
    "                        database=database)"
   ]
  },
  {
   "cell_type": "markdown",
   "id": "8b8fd3f8",
   "metadata": {},
   "source": [
    "<hr>\n",
    "<b style = 'font-size:28px;font-family:Arial;color:#E37C4D'>Create Tables</b>\n",
    "\n",
    "<p style = 'font-size:18px;font-family:Arial'><b>Create BYOM models table</b></p>"
   ]
  },
  {
   "cell_type": "code",
   "execution_count": 4,
   "id": "769f5cfe",
   "metadata": {},
   "outputs": [],
   "source": [
    "query = '''CREATE SET TABLE DEMO_USER.Aoa_Byom_Models \n",
    "     (\n",
    "      model_version VARCHAR(255) CHARACTER SET LATIN NOT CASESPECIFIC,\n",
    "      model_id VARCHAR(255) CHARACTER SET LATIN NOT CASESPECIFIC,\n",
    "      model_type VARCHAR(255) CHARACTER SET LATIN NOT CASESPECIFIC,\n",
    "      project_id VARCHAR(255) CHARACTER SET LATIN NOT CASESPECIFIC,\n",
    "      deployed_at TIMESTAMP(6) DEFAULT CURRENT_TIMESTAMP(6),\n",
    "      model BLOB(2097088000))\n",
    "UNIQUE PRIMARY INDEX ( model_version );\n",
    "'''\n",
    "\n",
    "try:\n",
    "    execute_sql(query)\n",
    "except:\n",
    "    execute_sql('DROP TABLE DEMO_USER.Aoa_Byom_Models;')\n",
    "    execute_sql(query)"
   ]
  },
  {
   "cell_type": "markdown",
   "id": "dc57b0e1",
   "metadata": {},
   "source": [
    "<p style = 'font-size:18px;font-family:Arial'><b>Create predictions table</b></p>"
   ]
  },
  {
   "cell_type": "code",
   "execution_count": 5,
   "id": "41be9f89",
   "metadata": {},
   "outputs": [],
   "source": [
    "query = '''CREATE MULTISET TABLE DEMO_USER.Pima_Patient_Predictions \n",
    "     (\n",
    "      job_id VARCHAR(255) CHARACTER SET LATIN NOT CASESPECIFIC,\n",
    "      PatientId BIGINT,\n",
    "      HasDiabetes BIGINT,\n",
    "      json_report CLOB(1048544000) CHARACTER SET LATIN)\n",
    "PRIMARY INDEX ( job_id );;\n",
    "'''\n",
    " \n",
    "try:\n",
    "    execute_sql(query)\n",
    "except:\n",
    "    execute_sql('DROP TABLE DEMO_USER.Pima_Patient_Predictions;')\n",
    "    execute_sql(query)"
   ]
  },
  {
   "cell_type": "markdown",
   "id": "5caa5268",
   "metadata": {},
   "source": [
    "<p style = 'font-size:18px;font-family:Arial'><b>Compute statistics</b></p>\n",
    "\n",
    "<p style = 'font-size:16px;font-family:Arial'>Compute the statistics metadata for the continuous variables</p>\n",
    "\n",
    "```bash\n",
    "aoa feature compute-stats \\\n",
    "        -s <feature-db>.<feature-data> \\\n",
    "        -m <statistics-metadata-db>.<statistics-metadata-table> \\\n",
    "        -t continuous -c numtimesprg,plglcconc,bloodp,skinthick,twohourserins,bmi,dipedfunc,age\n",
    "```\n",
    "\n",
    "<p style = 'font-size:16px;font-family:Arial'>Compute the statistics metadata for the categorical variables</p>\n",
    "\n",
    "```bash\n",
    "aoa feature compute-stats \\\n",
    "        -s <feature-db>.<feature-data> \\\n",
    "        -m <statistics-metadata-db>.<statistics-metadata-table> \\\n",
    "        -t categorical -c hasdiabetes\n",
    "```"
   ]
  },
  {
   "cell_type": "markdown",
   "id": "0d6fb0a4",
   "metadata": {},
   "source": [
    "<p style = 'font-size:18px;font-family:Arial'><b>Importing Data</b></p>"
   ]
  },
  {
   "cell_type": "code",
   "execution_count": null,
   "id": "9dca7bd3",
   "metadata": {},
   "outputs": [],
   "source": [
    "from teradataml import copy_to_sql, DataFrame\n",
    "from teradatasqlalchemy.types import *\n",
    "import pandas as pd\n",
    "\n",
    "df = pd.read_csv(\"data/pima_patient_features.csv\")\n",
    "copy_to_sql(df=df, \n",
    "            table_name=\"pima_patient_features\",     \n",
    "            schema_name=database,\n",
    "            primary_index=\"PatientId\", \n",
    "            if_exists=\"replace\",  \n",
    "            types={\n",
    "                \"PatientId\": INTEGER,\n",
    "                \"NumTimesPrg\": INTEGER, \n",
    "                \"PlGlcConc\": INTEGER,\n",
    "                \"BloodP\": INTEGER,\n",
    "                \"SkinThick\": INTEGER,\n",
    "                \"TwoHourSerIns\": INTEGER,\n",
    "                \"BMI\": FLOAT,\n",
    "                \"DiPedFunc\": FLOAT,\n",
    "                \"Age\": INTEGER\n",
    "            })\n",
    "\n",
    "df = pd.read_csv(\"data/pima_patient_diagnoses.csv\")\n",
    "copy_to_sql(df=df, \n",
    "            table_name=\"pima_patient_diagnoses\",     \n",
    "            schema_name=database,\n",
    "            primary_index=\"PatientId\", \n",
    "            if_exists=\"replace\",  \n",
    "            types={\n",
    "                \"PatientId\": INTEGER,\n",
    "                \"HasDiabetes\": INTEGER\n",
    "            })\n",
    "\n",
    "# we can compute this from the CLI also - but lets import pre-computed for now.\n",
    "df = pd.read_csv(\"data/aoa_statistics_metadata.csv\")\n",
    "copy_to_sql(df=df, \n",
    "            table_name=\"aoa_statistics_metadata\",     \n",
    "            schema_name=database,\n",
    "            if_exists=\"append\")\n"
   ]
  },
  {
   "cell_type": "markdown",
   "id": "97d65765",
   "metadata": {},
   "source": [
    "<b style = 'font-size:28px;font-family:Arial;color:#E37C4D'>ModelOps UI</b>\n",
    "\n",
    "<p style = 'font-size:18px;font-family:Arial'><b>Model Lifecycle</b></p>\n",
    "\n",
    "1. Python Diabetes Prediction\n",
    "   - Train\n",
    "   - Evaluate\n",
    "   - Review evaluation report\n",
    "   - Approve \n",
    "   - Deploy \n",
    "   - Check Deployments/executions\n",
    "   - Retire\n",
    "\n",
    "2. R Diabetes Prediction\n",
    "   - Train\n",
    "   - Evaluate\n",
    "   - Review evaluation report\n",
    "   - Approve \n",
    "   - Deploy \n",
    "   - Check Deployments/executions\n",
    "   - Retire\n",
    "\n",
    "3. BYOM Diabetes Prediction\n",
    "   - Run BYOM Notebook \n",
    "   - Define BYOM Model \n",
    "   - Import Version\n",
    "   - Evaluate\n",
    "   - Review evaluation report\n",
    "   - Approve \n",
    "   - Deploy \n",
    "   - Check Deployments/executions\n",
    "   - Retire"
   ]
  },
  {
   "cell_type": "markdown",
   "id": "be1b4671",
   "metadata": {},
   "source": [
    "<hr>\n",
    "<b style = 'font-size:28px;font-family:Arial;color:#E37C4D'>View Predictions</b>\n",
    "\n",
    "<p style = 'font-size:16px;font-family:Arial'>In the UI, select a deployment from the deployments left hand navigation. Go to the Jobs tab and on the right hand side for each job execution, you can select \"View Predictions\". This will show you a sample of the predictions for that particular job execution.</p>\n",
    "\n",
    "<p style = 'font-size:16px;font-family:Arial'>Note, your predictions table must have a `job_id` column which matches to the execution job id. If using BYOM, this is done automatically. For you own `scoring.py`, checkout the demo models.</p>"
   ]
  },
  {
   "cell_type": "markdown",
   "id": "6b812b27",
   "metadata": {},
   "source": [
    "<b style = 'font-size:28px;font-family:Arial;color:#E37C4D'>CLI</b>\n",
    "\n",
    "\n",
    "```bash\n",
    "pip install aoa>=7.0.0rc3\n",
    "```\n",
    "\n",
    "<p style = 'font-size:18px;font-family:Arial'><b>Copy CLI Config</b></p>\n",
    "\n",
    "```\n",
    "Copy the CLI config from ModelOps UI -> Session Details -> CLI config\n",
    "```\n",
    "\n",
    "<p style = 'font-size:18px;font-family:Arial'><b>Add Dataset Connection</b></p>\n",
    "\n",
    "```bash\n",
    "aoa connection add\n",
    "```\n",
    "\n",
    "<p style = 'font-size:18px;font-family:Arial'><b>List Feature Metadata</b></p>\n",
    "\n",
    "```bash\n",
    "aoa feature list-stats -m {your-db}.aoa_feature_metadata\n",
    "```\n",
    "\n",
    "<p style = 'font-size:18px;font-family:Arial'><b>Clone Project</b></p>\n",
    "\n",
    "```bash\n",
    "aoa clone \n",
    "```\n",
    "\n",
    "```bash\n",
    "cd modelops-demo-models\n",
    "```\n",
    "\n",
    "<p style = 'font-size:18px;font-family:Arial'><b>Install Model Dependencies</b></p>\n",
    "\n",
    "```bash\n",
    "pip install -r model_definitions/python-diabetes/model_modules/requirements.txt\n",
    "```\n",
    "\n",
    "<p style = 'font-size:18px;font-family:Arial'><b>Train Model</b></p>\n",
    "\n",
    "```bash\n",
    "aoa run\n",
    "```\n",
    "\n",
    "<p style = 'font-size:18px;font-family:Arial'><b>Add model</b></p>\n",
    "\n",
    "```bash\n",
    "aoa add\n",
    "```\n"
   ]
  }
 ],
 "metadata": {
  "kernelspec": {
   "display_name": "Python 3",
   "language": "python",
   "name": "python3"
  },
  "language_info": {
   "codemirror_mode": {
    "name": "ipython",
    "version": 3
   },
   "file_extension": ".py",
   "mimetype": "text/x-python",
   "name": "python",
   "nbconvert_exporter": "python",
   "pygments_lexer": "ipython3",
   "version": "3.11.7"
  }
 },
 "nbformat": 4,
 "nbformat_minor": 5
}
